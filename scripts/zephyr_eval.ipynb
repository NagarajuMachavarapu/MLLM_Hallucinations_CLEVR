{
 "cells": [
  {
   "cell_type": "code",
   "execution_count": 2,
   "id": "e6158070-6d68-45ae-aa1b-4607db7b6267",
   "metadata": {},
   "outputs": [],
   "source": [
    "import json\n",
    "from tqdm import tqdm\n",
    "import os\n",
    "import glob\n",
    "\n",
    "import torch"
   ]
  },
  {
   "cell_type": "code",
   "execution_count": 2,
   "id": "c28f45c2-128f-4998-9401-98afb5c79a54",
   "metadata": {},
   "outputs": [
    {
     "data": {
      "application/vnd.jupyter.widget-view+json": {
       "model_id": "2fe3817883df4b24bf991d45fc16008b",
       "version_major": 2,
       "version_minor": 0
      },
      "text/plain": [
       "model.safetensors.index.json:   0%|          | 0.00/23.9k [00:00<?, ?B/s]"
      ]
     },
     "metadata": {},
     "output_type": "display_data"
    },
    {
     "data": {
      "application/vnd.jupyter.widget-view+json": {
       "model_id": "564995152aef4cb3be024fb997ecee6d",
       "version_major": 2,
       "version_minor": 0
      },
      "text/plain": [
       "Downloading shards:   0%|          | 0/8 [00:00<?, ?it/s]"
      ]
     },
     "metadata": {},
     "output_type": "display_data"
    },
    {
     "data": {
      "application/vnd.jupyter.widget-view+json": {
       "model_id": "542e7f60064d49edae5f8677d91f92a2",
       "version_major": 2,
       "version_minor": 0
      },
      "text/plain": [
       "model-00001-of-00008.safetensors:   0%|          | 0.00/1.89G [00:00<?, ?B/s]"
      ]
     },
     "metadata": {},
     "output_type": "display_data"
    },
    {
     "data": {
      "application/vnd.jupyter.widget-view+json": {
       "model_id": "8602261858f844eb965a2e494529a840",
       "version_major": 2,
       "version_minor": 0
      },
      "text/plain": [
       "model-00002-of-00008.safetensors:   0%|          | 0.00/1.95G [00:00<?, ?B/s]"
      ]
     },
     "metadata": {},
     "output_type": "display_data"
    },
    {
     "data": {
      "application/vnd.jupyter.widget-view+json": {
       "model_id": "317bc08be32a42079f9a8f680498396f",
       "version_major": 2,
       "version_minor": 0
      },
      "text/plain": [
       "model-00003-of-00008.safetensors:   0%|          | 0.00/1.98G [00:00<?, ?B/s]"
      ]
     },
     "metadata": {},
     "output_type": "display_data"
    },
    {
     "data": {
      "application/vnd.jupyter.widget-view+json": {
       "model_id": "3cc5d396aff04c80870bd3c0c14f64ba",
       "version_major": 2,
       "version_minor": 0
      },
      "text/plain": [
       "model-00004-of-00008.safetensors:   0%|          | 0.00/1.95G [00:00<?, ?B/s]"
      ]
     },
     "metadata": {},
     "output_type": "display_data"
    },
    {
     "data": {
      "application/vnd.jupyter.widget-view+json": {
       "model_id": "4bb0c410fc41491c8e8b254b76442d4a",
       "version_major": 2,
       "version_minor": 0
      },
      "text/plain": [
       "model-00005-of-00008.safetensors:   0%|          | 0.00/1.98G [00:00<?, ?B/s]"
      ]
     },
     "metadata": {},
     "output_type": "display_data"
    },
    {
     "data": {
      "application/vnd.jupyter.widget-view+json": {
       "model_id": "057908f978214340ac648edc6e8b142d",
       "version_major": 2,
       "version_minor": 0
      },
      "text/plain": [
       "model-00006-of-00008.safetensors:   0%|          | 0.00/1.95G [00:00<?, ?B/s]"
      ]
     },
     "metadata": {},
     "output_type": "display_data"
    },
    {
     "data": {
      "application/vnd.jupyter.widget-view+json": {
       "model_id": "cecad0234e3443c586f74724b76859da",
       "version_major": 2,
       "version_minor": 0
      },
      "text/plain": [
       "model-00007-of-00008.safetensors:   0%|          | 0.00/1.98G [00:00<?, ?B/s]"
      ]
     },
     "metadata": {},
     "output_type": "display_data"
    },
    {
     "data": {
      "application/vnd.jupyter.widget-view+json": {
       "model_id": "00d498a9b1024b509353ce81fe3e1e82",
       "version_major": 2,
       "version_minor": 0
      },
      "text/plain": [
       "model-00008-of-00008.safetensors:   0%|          | 0.00/816M [00:00<?, ?B/s]"
      ]
     },
     "metadata": {},
     "output_type": "display_data"
    },
    {
     "data": {
      "application/vnd.jupyter.widget-view+json": {
       "model_id": "87e9c3572da142d4b137a3b670833b5c",
       "version_major": 2,
       "version_minor": 0
      },
      "text/plain": [
       "Loading checkpoint shards:   0%|          | 0/8 [00:00<?, ?it/s]"
      ]
     },
     "metadata": {},
     "output_type": "display_data"
    },
    {
     "data": {
      "application/vnd.jupyter.widget-view+json": {
       "model_id": "d8e628cb570043d9b45eac3abf708fea",
       "version_major": 2,
       "version_minor": 0
      },
      "text/plain": [
       "generation_config.json:   0%|          | 0.00/111 [00:00<?, ?B/s]"
      ]
     },
     "metadata": {},
     "output_type": "display_data"
    }
   ],
   "source": [
    "from transformers import AutoTokenizer, AutoModelForCausalLM\n",
    "\n",
    "tokenizer = AutoTokenizer.from_pretrained(\"HuggingFaceH4/zephyr-7b-beta\")\n",
    "model = AutoModelForCausalLM.from_pretrained(\"HuggingFaceH4/zephyr-7b-beta\")\n",
    "device = \"cuda\"\n",
    "model.to(device)\n",
    "\n",
    "question_structure = \"I will use you as an evaluator. I will give you ground truth, and a model generated answer. I want you to tell me if the ground truth and model generated answer are consistent.\""
   ]
  },
  {
   "cell_type": "code",
   "execution_count": 4,
   "id": "138db4f0-22a1-4125-b76a-3279e4cd3acf",
   "metadata": {},
   "outputs": [],
   "source": [
    "def performEvaluation(path):\n",
    "    file = open(path, 'r')\n",
    "    qa_list = json.load(file)\n",
    "    print(\"questions size: \" ,len(qa_list))\n",
    "    promptList = []\n",
    "    complete_data = []\n",
    "    for qa in qa_list[:5]:\n",
    "        \n",
    "        prompt = f\"\"\"{question_structure}\n",
    "            Ground truth: {qa['ground_truth']}\n",
    "            Model generated answer: {qa['model_generated_answer']}\n",
    "            Consistent:\"\"\"   \n",
    "        promptList.append(prompt)\n",
    "        #qa_copy['consistent'] = generated_caption\n",
    "        \n",
    "    ans = evalZephyr(promptList)\n",
    "    print(\"ans size: \" ,len(ans))\n",
    "    i=0\n",
    "    for qa in qa_list[:5]:\n",
    "        qa_copy = qa.copy()\n",
    "        qa_copy['consistent'] = ans[i]\n",
    "        i+=1\n",
    "        complete_data.append(qa_copy)\n",
    "    return complete_data"
   ]
  },
  {
   "cell_type": "code",
   "execution_count": 5,
   "id": "df1d4a99-4984-4146-872b-1329b124ba39",
   "metadata": {},
   "outputs": [],
   "source": [
    "def evalZephyr(promptList):\n",
    "    evals = []\n",
    "    \n",
    "    batch_size = 128\n",
    "    batches = [promptList[i:i+batch_size] for i in range(0, len(promptList), batch_size)]\n",
    "    for batch in tqdm(batches):\n",
    "        model_inputs = tokenizer(batch, return_tensors=\"pt\", padding=True).to(device)\n",
    "        \n",
    "    \n",
    "        generated_ids = model.generate(\n",
    "        # seed = 42,\n",
    "        **model_inputs, \n",
    "        max_new_tokens=3,\n",
    "        do_sample = False,\n",
    "        min_length = None,\n",
    "        use_cache = True,\n",
    "        top_p = 1.0,\n",
    "        temperature = 1e-05,\n",
    "        top_k = 50,\n",
    "        repetition_penalty = 1.0,\n",
    "        length_penalty = 1,\n",
    "        max_padding_length = None)\n",
    "    \n",
    "        evals += tokenizer.batch_decode(generated_ids, skip_special_tokens=True, clean_up_tokenization_spaces=False)\n",
    "        # torch.cuda.empty_cache() \n",
    "    print(len(evals))\n",
    "    \n",
    "    # Extract the text after \"Consistent\" for each string in evals\n",
    "    consistent_texts = [text[text.find(\"Consistent: \") + len(\"Consistent: \"):].strip() for text in evals]\n",
    "\n",
    "    return consistent_texts"
   ]
  },
  {
   "cell_type": "code",
   "execution_count": 3,
   "id": "595cc445-ee6d-4876-b2a7-28470d95cc1d",
   "metadata": {},
   "outputs": [
    {
     "name": "stdout",
     "output_type": "stream",
     "text": [
      "Processing file: /scratch/nmachav1/MLLM_Hallucinations_CLEVR/outputs/language_augmentation/InstructBLIP/val_num_7_and.json\n",
      "Processing file: /scratch/nmachav1/MLLM_Hallucinations_CLEVR/outputs/language_augmentation/InstructBLIP/val_num_4_and.json\n",
      "Processing file: /scratch/nmachav1/MLLM_Hallucinations_CLEVR/outputs/language_augmentation/InstructBLIP/val_type_inter_complex.json\n",
      "Processing file: /scratch/nmachav1/MLLM_Hallucinations_CLEVR/outputs/language_augmentation/InstructBLIP/val_num_9_not.json\n",
      "Processing file: /scratch/nmachav1/MLLM_Hallucinations_CLEVR/outputs/language_augmentation/InstructBLIP/val_num_6_complex.json\n",
      "Processing file: /scratch/nmachav1/MLLM_Hallucinations_CLEVR/outputs/language_augmentation/InstructBLIP/val_num_10_complex.json\n",
      "Processing file: /scratch/nmachav1/MLLM_Hallucinations_CLEVR/outputs/language_augmentation/InstructBLIP/val_num_7_complex.json\n",
      "Processing file: /scratch/nmachav1/MLLM_Hallucinations_CLEVR/outputs/language_augmentation/InstructBLIP/val_num_10_not.json\n",
      "Processing file: /scratch/nmachav1/MLLM_Hallucinations_CLEVR/outputs/language_augmentation/InstructBLIP/val_num_6_orig.json\n",
      "Processing file: /scratch/nmachav1/MLLM_Hallucinations_CLEVR/outputs/language_augmentation/InstructBLIP/val_num_8_complex.json\n",
      "Processing file: /scratch/nmachav1/MLLM_Hallucinations_CLEVR/outputs/language_augmentation/InstructBLIP/val_num_6_not.json\n",
      "Processing file: /scratch/nmachav1/MLLM_Hallucinations_CLEVR/outputs/language_augmentation/InstructBLIP/val_num_5_or.json\n",
      "Processing file: /scratch/nmachav1/MLLM_Hallucinations_CLEVR/outputs/language_augmentation/InstructBLIP/val_type_intra_not.json\n",
      "Processing file: /scratch/nmachav1/MLLM_Hallucinations_CLEVR/outputs/language_augmentation/InstructBLIP/val_num_5_orig.json\n",
      "Processing file: /scratch/nmachav1/MLLM_Hallucinations_CLEVR/outputs/language_augmentation/InstructBLIP/val_num_4_orig.json\n",
      "Processing file: /scratch/nmachav1/MLLM_Hallucinations_CLEVR/outputs/language_augmentation/InstructBLIP/val_num_6_and.json\n",
      "Processing file: /scratch/nmachav1/MLLM_Hallucinations_CLEVR/outputs/language_augmentation/InstructBLIP/val_type_intra_complex.json\n",
      "Processing file: /scratch/nmachav1/MLLM_Hallucinations_CLEVR/outputs/language_augmentation/InstructBLIP/val_num_3_orig.json\n",
      "Processing file: /scratch/nmachav1/MLLM_Hallucinations_CLEVR/outputs/language_augmentation/InstructBLIP/val_num_3_complex.json\n",
      "Processing file: /scratch/nmachav1/MLLM_Hallucinations_CLEVR/outputs/language_augmentation/InstructBLIP/val_num_5_and.json\n",
      "Processing file: /scratch/nmachav1/MLLM_Hallucinations_CLEVR/outputs/language_augmentation/InstructBLIP/val_num_7_orig.json\n",
      "Processing file: /scratch/nmachav1/MLLM_Hallucinations_CLEVR/outputs/language_augmentation/InstructBLIP/val_num_8_and.json\n",
      "Processing file: /scratch/nmachav1/MLLM_Hallucinations_CLEVR/outputs/language_augmentation/InstructBLIP/val_type_inter_orig.json\n",
      "Processing file: /scratch/nmachav1/MLLM_Hallucinations_CLEVR/outputs/language_augmentation/InstructBLIP/val_num_5_not.json\n",
      "Processing file: /scratch/nmachav1/MLLM_Hallucinations_CLEVR/outputs/language_augmentation/InstructBLIP/val_type_inter_not.json\n",
      "Processing file: /scratch/nmachav1/MLLM_Hallucinations_CLEVR/outputs/language_augmentation/InstructBLIP/val_type_intra_and.json\n",
      "Processing file: /scratch/nmachav1/MLLM_Hallucinations_CLEVR/outputs/language_augmentation/InstructBLIP/val_num_10_or.json\n",
      "Processing file: /scratch/nmachav1/MLLM_Hallucinations_CLEVR/outputs/language_augmentation/InstructBLIP/val_num_4_complex.json\n",
      "Processing file: /scratch/nmachav1/MLLM_Hallucinations_CLEVR/outputs/language_augmentation/InstructBLIP/val_num_5_complex.json\n",
      "Processing file: /scratch/nmachav1/MLLM_Hallucinations_CLEVR/outputs/language_augmentation/InstructBLIP/val_type_inter_and.json\n",
      "Processing file: /scratch/nmachav1/MLLM_Hallucinations_CLEVR/outputs/language_augmentation/InstructBLIP/val_num_9_or.json\n",
      "Processing file: /scratch/nmachav1/MLLM_Hallucinations_CLEVR/outputs/language_augmentation/InstructBLIP/val_num_4_not.json\n",
      "Processing file: /scratch/nmachav1/MLLM_Hallucinations_CLEVR/outputs/language_augmentation/InstructBLIP/val_num_9_complex.json\n",
      "Processing file: /scratch/nmachav1/MLLM_Hallucinations_CLEVR/outputs/language_augmentation/InstructBLIP/val_num_7_not.json\n",
      "Processing file: /scratch/nmachav1/MLLM_Hallucinations_CLEVR/outputs/language_augmentation/InstructBLIP/val_type_inter_or.json\n",
      "Processing file: /scratch/nmachav1/MLLM_Hallucinations_CLEVR/outputs/language_augmentation/InstructBLIP/val_type_intra_orig.json\n",
      "Processing file: /scratch/nmachav1/MLLM_Hallucinations_CLEVR/outputs/language_augmentation/InstructBLIP/val_num_4_or.json\n",
      "Processing file: /scratch/nmachav1/MLLM_Hallucinations_CLEVR/outputs/language_augmentation/InstructBLIP/val_num_9_and.json\n",
      "Processing file: /scratch/nmachav1/MLLM_Hallucinations_CLEVR/outputs/language_augmentation/InstructBLIP/val_num_3_and.json\n",
      "Processing file: /scratch/nmachav1/MLLM_Hallucinations_CLEVR/outputs/language_augmentation/InstructBLIP/val_num_6_or.json\n",
      "Processing file: /scratch/nmachav1/MLLM_Hallucinations_CLEVR/outputs/language_augmentation/InstructBLIP/val_num_8_or.json\n",
      "Processing file: /scratch/nmachav1/MLLM_Hallucinations_CLEVR/outputs/language_augmentation/InstructBLIP/val_num_10_and.json\n",
      "Processing file: /scratch/nmachav1/MLLM_Hallucinations_CLEVR/outputs/language_augmentation/InstructBLIP/val_num_9_orig.json\n",
      "Processing file: /scratch/nmachav1/MLLM_Hallucinations_CLEVR/outputs/language_augmentation/InstructBLIP/val_num_8_not.json\n",
      "Processing file: /scratch/nmachav1/MLLM_Hallucinations_CLEVR/outputs/language_augmentation/InstructBLIP/val_num_8_orig.json\n",
      "Processing file: /scratch/nmachav1/MLLM_Hallucinations_CLEVR/outputs/language_augmentation/InstructBLIP/val_num_7_or.json\n",
      "Processing file: /scratch/nmachav1/MLLM_Hallucinations_CLEVR/outputs/language_augmentation/InstructBLIP/val_num_10_orig.json\n",
      "Processing file: /scratch/nmachav1/MLLM_Hallucinations_CLEVR/outputs/language_augmentation/InstructBLIP/val_num_3_or.json\n",
      "Processing file: /scratch/nmachav1/MLLM_Hallucinations_CLEVR/outputs/language_augmentation/InstructBLIP/val_type_intra_or.json\n",
      "Processing file: /scratch/nmachav1/MLLM_Hallucinations_CLEVR/outputs/language_augmentation/InstructBLIP/val_num_3_not.json\n",
      "['/scratch/nmachav1/MLLM_Hallucinations_CLEVR/outputs/language_augmentation/InstructBLIP/val_num_7_and.json', '/scratch/nmachav1/MLLM_Hallucinations_CLEVR/outputs/language_augmentation/InstructBLIP/val_num_4_and.json', '/scratch/nmachav1/MLLM_Hallucinations_CLEVR/outputs/language_augmentation/InstructBLIP/val_type_inter_complex.json', '/scratch/nmachav1/MLLM_Hallucinations_CLEVR/outputs/language_augmentation/InstructBLIP/val_num_9_not.json', '/scratch/nmachav1/MLLM_Hallucinations_CLEVR/outputs/language_augmentation/InstructBLIP/val_num_6_complex.json', '/scratch/nmachav1/MLLM_Hallucinations_CLEVR/outputs/language_augmentation/InstructBLIP/val_num_10_complex.json', '/scratch/nmachav1/MLLM_Hallucinations_CLEVR/outputs/language_augmentation/InstructBLIP/val_num_7_complex.json', '/scratch/nmachav1/MLLM_Hallucinations_CLEVR/outputs/language_augmentation/InstructBLIP/val_num_10_not.json', '/scratch/nmachav1/MLLM_Hallucinations_CLEVR/outputs/language_augmentation/InstructBLIP/val_num_6_orig.json', '/scratch/nmachav1/MLLM_Hallucinations_CLEVR/outputs/language_augmentation/InstructBLIP/val_num_8_complex.json', '/scratch/nmachav1/MLLM_Hallucinations_CLEVR/outputs/language_augmentation/InstructBLIP/val_num_6_not.json', '/scratch/nmachav1/MLLM_Hallucinations_CLEVR/outputs/language_augmentation/InstructBLIP/val_num_5_or.json', '/scratch/nmachav1/MLLM_Hallucinations_CLEVR/outputs/language_augmentation/InstructBLIP/val_type_intra_not.json', '/scratch/nmachav1/MLLM_Hallucinations_CLEVR/outputs/language_augmentation/InstructBLIP/val_num_5_orig.json', '/scratch/nmachav1/MLLM_Hallucinations_CLEVR/outputs/language_augmentation/InstructBLIP/val_num_4_orig.json', '/scratch/nmachav1/MLLM_Hallucinations_CLEVR/outputs/language_augmentation/InstructBLIP/val_num_6_and.json', '/scratch/nmachav1/MLLM_Hallucinations_CLEVR/outputs/language_augmentation/InstructBLIP/val_type_intra_complex.json', '/scratch/nmachav1/MLLM_Hallucinations_CLEVR/outputs/language_augmentation/InstructBLIP/val_num_3_orig.json', '/scratch/nmachav1/MLLM_Hallucinations_CLEVR/outputs/language_augmentation/InstructBLIP/val_num_3_complex.json', '/scratch/nmachav1/MLLM_Hallucinations_CLEVR/outputs/language_augmentation/InstructBLIP/val_num_5_and.json', '/scratch/nmachav1/MLLM_Hallucinations_CLEVR/outputs/language_augmentation/InstructBLIP/val_num_7_orig.json', '/scratch/nmachav1/MLLM_Hallucinations_CLEVR/outputs/language_augmentation/InstructBLIP/val_num_8_and.json', '/scratch/nmachav1/MLLM_Hallucinations_CLEVR/outputs/language_augmentation/InstructBLIP/val_type_inter_orig.json', '/scratch/nmachav1/MLLM_Hallucinations_CLEVR/outputs/language_augmentation/InstructBLIP/val_num_5_not.json', '/scratch/nmachav1/MLLM_Hallucinations_CLEVR/outputs/language_augmentation/InstructBLIP/val_type_inter_not.json', '/scratch/nmachav1/MLLM_Hallucinations_CLEVR/outputs/language_augmentation/InstructBLIP/val_type_intra_and.json', '/scratch/nmachav1/MLLM_Hallucinations_CLEVR/outputs/language_augmentation/InstructBLIP/val_num_10_or.json', '/scratch/nmachav1/MLLM_Hallucinations_CLEVR/outputs/language_augmentation/InstructBLIP/val_num_4_complex.json', '/scratch/nmachav1/MLLM_Hallucinations_CLEVR/outputs/language_augmentation/InstructBLIP/val_num_5_complex.json', '/scratch/nmachav1/MLLM_Hallucinations_CLEVR/outputs/language_augmentation/InstructBLIP/val_type_inter_and.json', '/scratch/nmachav1/MLLM_Hallucinations_CLEVR/outputs/language_augmentation/InstructBLIP/val_num_9_or.json', '/scratch/nmachav1/MLLM_Hallucinations_CLEVR/outputs/language_augmentation/InstructBLIP/val_num_4_not.json', '/scratch/nmachav1/MLLM_Hallucinations_CLEVR/outputs/language_augmentation/InstructBLIP/val_num_9_complex.json', '/scratch/nmachav1/MLLM_Hallucinations_CLEVR/outputs/language_augmentation/InstructBLIP/val_num_7_not.json', '/scratch/nmachav1/MLLM_Hallucinations_CLEVR/outputs/language_augmentation/InstructBLIP/val_type_inter_or.json', '/scratch/nmachav1/MLLM_Hallucinations_CLEVR/outputs/language_augmentation/InstructBLIP/val_type_intra_orig.json', '/scratch/nmachav1/MLLM_Hallucinations_CLEVR/outputs/language_augmentation/InstructBLIP/val_num_4_or.json', '/scratch/nmachav1/MLLM_Hallucinations_CLEVR/outputs/language_augmentation/InstructBLIP/val_num_9_and.json', '/scratch/nmachav1/MLLM_Hallucinations_CLEVR/outputs/language_augmentation/InstructBLIP/val_num_3_and.json', '/scratch/nmachav1/MLLM_Hallucinations_CLEVR/outputs/language_augmentation/InstructBLIP/val_num_6_or.json', '/scratch/nmachav1/MLLM_Hallucinations_CLEVR/outputs/language_augmentation/InstructBLIP/val_num_8_or.json', '/scratch/nmachav1/MLLM_Hallucinations_CLEVR/outputs/language_augmentation/InstructBLIP/val_num_10_and.json', '/scratch/nmachav1/MLLM_Hallucinations_CLEVR/outputs/language_augmentation/InstructBLIP/val_num_9_orig.json', '/scratch/nmachav1/MLLM_Hallucinations_CLEVR/outputs/language_augmentation/InstructBLIP/val_num_8_not.json', '/scratch/nmachav1/MLLM_Hallucinations_CLEVR/outputs/language_augmentation/InstructBLIP/val_num_8_orig.json', '/scratch/nmachav1/MLLM_Hallucinations_CLEVR/outputs/language_augmentation/InstructBLIP/val_num_7_or.json', '/scratch/nmachav1/MLLM_Hallucinations_CLEVR/outputs/language_augmentation/InstructBLIP/val_num_10_orig.json', '/scratch/nmachav1/MLLM_Hallucinations_CLEVR/outputs/language_augmentation/InstructBLIP/val_num_3_or.json', '/scratch/nmachav1/MLLM_Hallucinations_CLEVR/outputs/language_augmentation/InstructBLIP/val_type_intra_or.json', '/scratch/nmachav1/MLLM_Hallucinations_CLEVR/outputs/language_augmentation/InstructBLIP/val_num_3_not.json']\n"
     ]
    },
    {
     "ename": "NameError",
     "evalue": "name 'performEvaluation' is not defined",
     "output_type": "error",
     "traceback": [
      "\u001b[0;31m---------------------------------------------------------------------------\u001b[0m",
      "\u001b[0;31mNameError\u001b[0m                                 Traceback (most recent call last)",
      "Cell \u001b[0;32mIn[3], line 17\u001b[0m\n\u001b[1;32m     15\u001b[0m \u001b[38;5;28mprint\u001b[39m(all_files)\n\u001b[1;32m     16\u001b[0m \u001b[38;5;28;01mfor\u001b[39;00m file \u001b[38;5;129;01min\u001b[39;00m all_files:\n\u001b[0;32m---> 17\u001b[0m     evals \u001b[38;5;241m=\u001b[39m \u001b[43mperformEvaluation\u001b[49m(file)\n\u001b[1;32m     19\u001b[0m     \u001b[38;5;28;01mwith\u001b[39;00m \u001b[38;5;28mopen\u001b[39m(os\u001b[38;5;241m.\u001b[39mpath\u001b[38;5;241m.\u001b[39mjoin(SAVE_FOLDER, file\u001b[38;5;241m.\u001b[39msplit(\u001b[38;5;124m\"\u001b[39m\u001b[38;5;124m/\u001b[39m\u001b[38;5;124m\"\u001b[39m)[\u001b[38;5;241m-\u001b[39m\u001b[38;5;241m2\u001b[39m]\u001b[38;5;241m+\u001b[39m\u001b[38;5;124m\"\u001b[39m\u001b[38;5;124m/\u001b[39m\u001b[38;5;124m\"\u001b[39m\u001b[38;5;241m+\u001b[39mfile\u001b[38;5;241m.\u001b[39msplit(\u001b[38;5;124m\"\u001b[39m\u001b[38;5;124m/\u001b[39m\u001b[38;5;124m\"\u001b[39m)[\u001b[38;5;241m-\u001b[39m\u001b[38;5;241m1\u001b[39m]), \u001b[38;5;124m'\u001b[39m\u001b[38;5;124mw\u001b[39m\u001b[38;5;124m'\u001b[39m) \u001b[38;5;28;01mas\u001b[39;00m file:\n\u001b[1;32m     20\u001b[0m         json\u001b[38;5;241m.\u001b[39mdump(evals, file)\n",
      "\u001b[0;31mNameError\u001b[0m: name 'performEvaluation' is not defined"
     ]
    }
   ],
   "source": [
    "QA_PATH = '/scratch/nmachav1/MLLM_Hallucinations_CLEVR/outputs/language_augmentation/InstructBLIP'\n",
    "SAVE_FOLDER = '/scratch/nmachav1/MLLM_Hallucinations_CLEVR/outputs/language_augmentation/Zephyr_Results'\n",
    "all_files = []\n",
    "for root, dirs, files in os.walk(QA_PATH):\n",
    "    # Exclude files from the \".ipynb_checkpoints\" folder\n",
    "    dirs[:] = [d for d in dirs if not d.endswith(\".ipynb_checkpoints\")]\n",
    "\n",
    "    for file in files:\n",
    "        # Check if the file has a .json extension\n",
    "        if file.endswith(\".json\"):\n",
    "            file_path = os.path.join(root, file)\n",
    "            # Process the file or do whatever you need with it\n",
    "            print(f\"Processing file: {file_path}\")\n",
    "            all_files.append(file_path)\n",
    "print(all_files)\n",
    "for file in all_files:\n",
    "    evals = performEvaluation(file)\n",
    "\n",
    "    with open(os.path.join(SAVE_FOLDER, file.split(\"/\")[-2]+\"/\"+file.split(\"/\")[-1]), 'w') as file:\n",
    "        json.dump(evals, file)"
   ]
  },
  {
   "cell_type": "code",
   "execution_count": 3,
   "id": "72fe17d5-4ca6-44f0-b9d9-b9020031c36e",
   "metadata": {},
   "outputs": [],
   "source": [
    "torch.cuda.empty_cache()"
   ]
  },
  {
   "cell_type": "code",
   "execution_count": null,
   "id": "1d0c5359-c3e1-4f36-8bfc-5d3b1f113a42",
   "metadata": {},
   "outputs": [],
   "source": []
  }
 ],
 "metadata": {
  "kernelspec": {
   "display_name": "pytorch-gpu-2.0.1",
   "language": "python",
   "name": "pytorch-gpu-2.0.1"
  },
  "language_info": {
   "codemirror_mode": {
    "name": "ipython",
    "version": 3
   },
   "file_extension": ".py",
   "mimetype": "text/x-python",
   "name": "python",
   "nbconvert_exporter": "python",
   "pygments_lexer": "ipython3",
   "version": "3.11.5"
  }
 },
 "nbformat": 4,
 "nbformat_minor": 5
}
