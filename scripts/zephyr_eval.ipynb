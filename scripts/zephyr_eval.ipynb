{
 "cells": [
  {
   "cell_type": "code",
   "execution_count": 14,
   "id": "e6158070-6d68-45ae-aa1b-4607db7b6267",
   "metadata": {},
   "outputs": [],
   "source": [
    "import json\n",
    "from tqdm import tqdm\n",
    "import os\n",
    "import glob\n",
    "\n",
    "import torch"
   ]
  },
  {
   "cell_type": "code",
   "execution_count": 24,
   "id": "72fe17d5-4ca6-44f0-b9d9-b9020031c36e",
   "metadata": {},
   "outputs": [],
   "source": [
    "torch.cuda.empty_cache()"
   ]
  },
  {
   "cell_type": "code",
   "execution_count": 15,
   "id": "c28f45c2-128f-4998-9401-98afb5c79a54",
   "metadata": {},
   "outputs": [
    {
     "data": {
      "application/vnd.jupyter.widget-view+json": {
       "model_id": "61bf030ecc7f4cb294c2a9bc2d72de12",
       "version_major": 2,
       "version_minor": 0
      },
      "text/plain": [
       "Loading checkpoint shards:   0%|          | 0/8 [00:00<?, ?it/s]"
      ]
     },
     "metadata": {},
     "output_type": "display_data"
    }
   ],
   "source": [
    "from transformers import AutoTokenizer, AutoModelForCausalLM\n",
    "\n",
    "tokenizer = AutoTokenizer.from_pretrained(\"HuggingFaceH4/zephyr-7b-beta\")\n",
    "model = AutoModelForCausalLM.from_pretrained(\"HuggingFaceH4/zephyr-7b-beta\")\n",
    "device = \"cuda\"\n",
    "model.to(device)\n",
    "\n",
    "question_structure = \"I will use you as an evaluator. I will give you ground truth, and a model generated answer. I want you to tell me if the ground truth and model generated answer are consistent.\""
   ]
  },
  {
   "cell_type": "code",
   "execution_count": 18,
   "id": "138db4f0-22a1-4125-b76a-3279e4cd3acf",
   "metadata": {},
   "outputs": [],
   "source": [
    "def performEvaluation(path):\n",
    "    file = open(path, 'r')\n",
    "    qa_list = json.load(file)\n",
    "    print(\"questions size: \" ,len(qa_list))\n",
    "    promptList = []\n",
    "    complete_data = []\n",
    "    for qa in qa_list[:5]:\n",
    "        \n",
    "        prompt = f\"\"\"{question_structure}\n",
    "            Ground truth: {qa['ground_truth']}\n",
    "            Model generated answer: {qa['model_generated_answer']}\n",
    "            Consistent:\"\"\"   \n",
    "        promptList.append(prompt)\n",
    "        #qa_copy['consistent'] = generated_caption\n",
    "        \n",
    "    ans = evalZephyr(promptList)\n",
    "    print(\"ans size: \" ,len(ans))\n",
    "    i=0\n",
    "    for qa in qa_list[:5]:\n",
    "        qa_copy = qa.copy()\n",
    "        qa_copy['consistent'] = ans[i]\n",
    "        i+=1\n",
    "        complete_data.append(qa_copy)\n",
    "    return complete_data"
   ]
  },
  {
   "cell_type": "code",
   "execution_count": 19,
   "id": "df1d4a99-4984-4146-872b-1329b124ba39",
   "metadata": {},
   "outputs": [],
   "source": [
    "def evalZephyr(promptList):\n",
    "    evals = []\n",
    "    \n",
    "    batch_size = 128\n",
    "    batches = [promptList[i:i+batch_size] for i in range(0, len(promptList), batch_size)]\n",
    "    for batch in tqdm(batches):\n",
    "        model_inputs = tokenizer(batch, return_tensors=\"pt\", padding=True).to(device)\n",
    "        \n",
    "    \n",
    "        generated_ids = model.generate(\n",
    "        # seed = 42,\n",
    "        **model_inputs, \n",
    "        max_new_tokens=3,\n",
    "        do_sample = False,\n",
    "        min_length = None,\n",
    "        use_cache = True,\n",
    "        top_p = 1.0,\n",
    "        temperature = 1e-05,\n",
    "        top_k = 50,\n",
    "        repetition_penalty = 1.0,\n",
    "        length_penalty = 1,\n",
    "        max_padding_length = None)\n",
    "    \n",
    "        evals += tokenizer.batch_decode(generated_ids, skip_special_tokens=True, clean_up_tokenization_spaces=False)\n",
    "        # torch.cuda.empty_cache() \n",
    "    print(len(evals))\n",
    "    \n",
    "    # Extract the text after \"Consistent\" for each string in evals\n",
    "    consistent_texts = [text[text.find(\"Consistent: \") + len(\"Consistent: \"):].strip() for text in evals]\n",
    "\n",
    "    return consistent_texts"
   ]
  },
  {
   "cell_type": "code",
   "execution_count": 23,
   "id": "595cc445-ee6d-4876-b2a7-28470d95cc1d",
   "metadata": {},
   "outputs": [
    {
     "name": "stdout",
     "output_type": "stream",
     "text": [
      "Processing file: /scratch/nmachav1/MLLM_Hallucinations_CLEVR/outputs/Model_Answers/LLaMA/val_type_inter.json\n",
      "Processing file: /scratch/nmachav1/MLLM_Hallucinations_CLEVR/outputs/Model_Answers/LLaMA/val_num_9.json\n",
      "Processing file: /scratch/nmachav1/MLLM_Hallucinations_CLEVR/outputs/Model_Answers/LLaMA/val_type_intra.json\n",
      "Processing file: /scratch/nmachav1/MLLM_Hallucinations_CLEVR/outputs/Model_Answers/LLaMA/val_num_3.json\n",
      "Processing file: /scratch/nmachav1/MLLM_Hallucinations_CLEVR/outputs/Model_Answers/LLaMA/val_num_7.json\n",
      "Processing file: /scratch/nmachav1/MLLM_Hallucinations_CLEVR/outputs/Model_Answers/LLaMA/val_num_10.json\n",
      "Processing file: /scratch/nmachav1/MLLM_Hallucinations_CLEVR/outputs/Model_Answers/LLaMA/val_num_5.json\n",
      "Processing file: /scratch/nmachav1/MLLM_Hallucinations_CLEVR/outputs/Model_Answers/LLaMA/val_num_6.json\n",
      "Processing file: /scratch/nmachav1/MLLM_Hallucinations_CLEVR/outputs/Model_Answers/LLaMA/val_num_4.json\n",
      "Processing file: /scratch/nmachav1/MLLM_Hallucinations_CLEVR/outputs/Model_Answers/LLaMA/val_num_8.json\n",
      "Processing file: /scratch/nmachav1/MLLM_Hallucinations_CLEVR/outputs/Model_Answers/InstructBLIP/val_num_9.json\n",
      "Processing file: /scratch/nmachav1/MLLM_Hallucinations_CLEVR/outputs/Model_Answers/InstructBLIP/val_num_5.json\n",
      "Processing file: /scratch/nmachav1/MLLM_Hallucinations_CLEVR/outputs/Model_Answers/InstructBLIP/val_type_inter.json\n",
      "Processing file: /scratch/nmachav1/MLLM_Hallucinations_CLEVR/outputs/Model_Answers/InstructBLIP/val_num_3.json\n",
      "Processing file: /scratch/nmachav1/MLLM_Hallucinations_CLEVR/outputs/Model_Answers/InstructBLIP/val_type_intra.json\n",
      "Processing file: /scratch/nmachav1/MLLM_Hallucinations_CLEVR/outputs/Model_Answers/InstructBLIP/val_num_6.json\n",
      "Processing file: /scratch/nmachav1/MLLM_Hallucinations_CLEVR/outputs/Model_Answers/InstructBLIP/val_num_4.json\n",
      "Processing file: /scratch/nmachav1/MLLM_Hallucinations_CLEVR/outputs/Model_Answers/InstructBLIP/val_num_10.json\n",
      "Processing file: /scratch/nmachav1/MLLM_Hallucinations_CLEVR/outputs/Model_Answers/InstructBLIP/val_num_8.json\n",
      "Processing file: /scratch/nmachav1/MLLM_Hallucinations_CLEVR/outputs/Model_Answers/InstructBLIP/val_num_7.json\n",
      "Processing file: /scratch/nmachav1/MLLM_Hallucinations_CLEVR/outputs/Model_Answers/LLaVA/val_type_inter.json\n",
      "Processing file: /scratch/nmachav1/MLLM_Hallucinations_CLEVR/outputs/Model_Answers/LLaVA/val_num_9.json\n",
      "Processing file: /scratch/nmachav1/MLLM_Hallucinations_CLEVR/outputs/Model_Answers/LLaVA/val_type_intra.json\n",
      "Processing file: /scratch/nmachav1/MLLM_Hallucinations_CLEVR/outputs/Model_Answers/LLaVA/val_num_3.json\n",
      "Processing file: /scratch/nmachav1/MLLM_Hallucinations_CLEVR/outputs/Model_Answers/LLaVA/val_num_7.json\n",
      "Processing file: /scratch/nmachav1/MLLM_Hallucinations_CLEVR/outputs/Model_Answers/LLaVA/val_num_10.json\n",
      "Processing file: /scratch/nmachav1/MLLM_Hallucinations_CLEVR/outputs/Model_Answers/LLaVA/val_num_5.json\n",
      "Processing file: /scratch/nmachav1/MLLM_Hallucinations_CLEVR/outputs/Model_Answers/LLaVA/val_num_6.json\n",
      "Processing file: /scratch/nmachav1/MLLM_Hallucinations_CLEVR/outputs/Model_Answers/LLaVA/val_num_4.json\n",
      "Processing file: /scratch/nmachav1/MLLM_Hallucinations_CLEVR/outputs/Model_Answers/LLaVA/val_num_8.json\n",
      "['/scratch/nmachav1/MLLM_Hallucinations_CLEVR/outputs/Model_Answers/LLaMA/val_type_inter.json', '/scratch/nmachav1/MLLM_Hallucinations_CLEVR/outputs/Model_Answers/LLaMA/val_num_9.json', '/scratch/nmachav1/MLLM_Hallucinations_CLEVR/outputs/Model_Answers/LLaMA/val_type_intra.json', '/scratch/nmachav1/MLLM_Hallucinations_CLEVR/outputs/Model_Answers/LLaMA/val_num_3.json', '/scratch/nmachav1/MLLM_Hallucinations_CLEVR/outputs/Model_Answers/LLaMA/val_num_7.json', '/scratch/nmachav1/MLLM_Hallucinations_CLEVR/outputs/Model_Answers/LLaMA/val_num_10.json', '/scratch/nmachav1/MLLM_Hallucinations_CLEVR/outputs/Model_Answers/LLaMA/val_num_5.json', '/scratch/nmachav1/MLLM_Hallucinations_CLEVR/outputs/Model_Answers/LLaMA/val_num_6.json', '/scratch/nmachav1/MLLM_Hallucinations_CLEVR/outputs/Model_Answers/LLaMA/val_num_4.json', '/scratch/nmachav1/MLLM_Hallucinations_CLEVR/outputs/Model_Answers/LLaMA/val_num_8.json', '/scratch/nmachav1/MLLM_Hallucinations_CLEVR/outputs/Model_Answers/InstructBLIP/val_num_9.json', '/scratch/nmachav1/MLLM_Hallucinations_CLEVR/outputs/Model_Answers/InstructBLIP/val_num_5.json', '/scratch/nmachav1/MLLM_Hallucinations_CLEVR/outputs/Model_Answers/InstructBLIP/val_type_inter.json', '/scratch/nmachav1/MLLM_Hallucinations_CLEVR/outputs/Model_Answers/InstructBLIP/val_num_3.json', '/scratch/nmachav1/MLLM_Hallucinations_CLEVR/outputs/Model_Answers/InstructBLIP/val_type_intra.json', '/scratch/nmachav1/MLLM_Hallucinations_CLEVR/outputs/Model_Answers/InstructBLIP/val_num_6.json', '/scratch/nmachav1/MLLM_Hallucinations_CLEVR/outputs/Model_Answers/InstructBLIP/val_num_4.json', '/scratch/nmachav1/MLLM_Hallucinations_CLEVR/outputs/Model_Answers/InstructBLIP/val_num_10.json', '/scratch/nmachav1/MLLM_Hallucinations_CLEVR/outputs/Model_Answers/InstructBLIP/val_num_8.json', '/scratch/nmachav1/MLLM_Hallucinations_CLEVR/outputs/Model_Answers/InstructBLIP/val_num_7.json', '/scratch/nmachav1/MLLM_Hallucinations_CLEVR/outputs/Model_Answers/LLaVA/val_type_inter.json', '/scratch/nmachav1/MLLM_Hallucinations_CLEVR/outputs/Model_Answers/LLaVA/val_num_9.json', '/scratch/nmachav1/MLLM_Hallucinations_CLEVR/outputs/Model_Answers/LLaVA/val_type_intra.json', '/scratch/nmachav1/MLLM_Hallucinations_CLEVR/outputs/Model_Answers/LLaVA/val_num_3.json', '/scratch/nmachav1/MLLM_Hallucinations_CLEVR/outputs/Model_Answers/LLaVA/val_num_7.json', '/scratch/nmachav1/MLLM_Hallucinations_CLEVR/outputs/Model_Answers/LLaVA/val_num_10.json', '/scratch/nmachav1/MLLM_Hallucinations_CLEVR/outputs/Model_Answers/LLaVA/val_num_5.json', '/scratch/nmachav1/MLLM_Hallucinations_CLEVR/outputs/Model_Answers/LLaVA/val_num_6.json', '/scratch/nmachav1/MLLM_Hallucinations_CLEVR/outputs/Model_Answers/LLaVA/val_num_4.json', '/scratch/nmachav1/MLLM_Hallucinations_CLEVR/outputs/Model_Answers/LLaVA/val_num_8.json']\n",
      "questions size:  70698\n"
     ]
    },
    {
     "name": "stderr",
     "output_type": "stream",
     "text": [
      "100%|██████████| 1/1 [00:00<00:00,  2.08it/s]\n"
     ]
    },
    {
     "name": "stdout",
     "output_type": "stream",
     "text": [
      "5\n",
      "ans size:  5\n",
      "questions size:  9024\n"
     ]
    },
    {
     "name": "stderr",
     "output_type": "stream",
     "text": [
      "100%|██████████| 1/1 [00:00<00:00,  2.16it/s]\n"
     ]
    },
    {
     "name": "stdout",
     "output_type": "stream",
     "text": [
      "5\n",
      "ans size:  5\n",
      "questions size:  1525\n"
     ]
    },
    {
     "name": "stderr",
     "output_type": "stream",
     "text": [
      "100%|██████████| 1/1 [00:00<00:00,  1.68it/s]\n"
     ]
    },
    {
     "name": "stdout",
     "output_type": "stream",
     "text": [
      "5\n",
      "ans size:  5\n",
      "questions size:  9182\n"
     ]
    },
    {
     "name": "stderr",
     "output_type": "stream",
     "text": [
      "100%|██████████| 1/1 [00:00<00:00,  1.68it/s]\n"
     ]
    },
    {
     "name": "stdout",
     "output_type": "stream",
     "text": [
      "5\n",
      "ans size:  5\n",
      "questions size:  8681\n"
     ]
    },
    {
     "name": "stderr",
     "output_type": "stream",
     "text": [
      "100%|██████████| 1/1 [00:00<00:00,  2.17it/s]\n"
     ]
    },
    {
     "name": "stdout",
     "output_type": "stream",
     "text": [
      "5\n",
      "ans size:  5\n",
      "questions size:  8930\n"
     ]
    },
    {
     "name": "stderr",
     "output_type": "stream",
     "text": [
      "100%|██████████| 1/1 [00:00<00:00,  2.16it/s]\n"
     ]
    },
    {
     "name": "stdout",
     "output_type": "stream",
     "text": [
      "5\n",
      "ans size:  5\n",
      "questions size:  8861\n"
     ]
    },
    {
     "name": "stderr",
     "output_type": "stream",
     "text": [
      "100%|██████████| 1/1 [00:00<00:00,  2.16it/s]\n"
     ]
    },
    {
     "name": "stdout",
     "output_type": "stream",
     "text": [
      "5\n",
      "ans size:  5\n",
      "questions size:  8938\n"
     ]
    },
    {
     "name": "stderr",
     "output_type": "stream",
     "text": [
      "100%|██████████| 1/1 [00:00<00:00,  1.97it/s]\n"
     ]
    },
    {
     "name": "stdout",
     "output_type": "stream",
     "text": [
      "5\n",
      "ans size:  5\n",
      "questions size:  9267\n"
     ]
    },
    {
     "name": "stderr",
     "output_type": "stream",
     "text": [
      "100%|██████████| 1/1 [00:00<00:00,  1.68it/s]\n"
     ]
    },
    {
     "name": "stdout",
     "output_type": "stream",
     "text": [
      "5\n",
      "ans size:  5\n",
      "questions size:  9340\n"
     ]
    },
    {
     "name": "stderr",
     "output_type": "stream",
     "text": [
      "100%|██████████| 1/1 [00:00<00:00,  1.97it/s]\n"
     ]
    },
    {
     "name": "stdout",
     "output_type": "stream",
     "text": [
      "5\n",
      "ans size:  5\n",
      "questions size:  9024\n"
     ]
    },
    {
     "name": "stderr",
     "output_type": "stream",
     "text": [
      "100%|██████████| 1/1 [00:01<00:00,  1.40s/it]\n"
     ]
    },
    {
     "name": "stdout",
     "output_type": "stream",
     "text": [
      "5\n",
      "ans size:  5\n",
      "questions size:  8861\n"
     ]
    },
    {
     "name": "stderr",
     "output_type": "stream",
     "text": [
      "100%|██████████| 1/1 [00:01<00:00,  1.40s/it]\n"
     ]
    },
    {
     "name": "stdout",
     "output_type": "stream",
     "text": [
      "5\n",
      "ans size:  5\n",
      "questions size:  70698\n"
     ]
    },
    {
     "name": "stderr",
     "output_type": "stream",
     "text": [
      "100%|██████████| 1/1 [00:01<00:00,  1.40s/it]\n"
     ]
    },
    {
     "name": "stdout",
     "output_type": "stream",
     "text": [
      "5\n",
      "ans size:  5\n",
      "questions size:  9182\n"
     ]
    },
    {
     "name": "stderr",
     "output_type": "stream",
     "text": [
      "100%|██████████| 1/1 [00:00<00:00,  1.97it/s]\n"
     ]
    },
    {
     "name": "stdout",
     "output_type": "stream",
     "text": [
      "5\n",
      "ans size:  5\n",
      "questions size:  1525\n"
     ]
    },
    {
     "name": "stderr",
     "output_type": "stream",
     "text": [
      "100%|██████████| 1/1 [00:01<00:00,  1.40s/it]\n"
     ]
    },
    {
     "name": "stdout",
     "output_type": "stream",
     "text": [
      "5\n",
      "ans size:  5\n",
      "questions size:  8938\n"
     ]
    },
    {
     "name": "stderr",
     "output_type": "stream",
     "text": [
      "100%|██████████| 1/1 [00:00<00:00,  1.97it/s]\n"
     ]
    },
    {
     "name": "stdout",
     "output_type": "stream",
     "text": [
      "5\n",
      "ans size:  5\n",
      "questions size:  9267\n"
     ]
    },
    {
     "name": "stderr",
     "output_type": "stream",
     "text": [
      "100%|██████████| 1/1 [00:00<00:00,  2.31it/s]\n"
     ]
    },
    {
     "name": "stdout",
     "output_type": "stream",
     "text": [
      "5\n",
      "ans size:  5\n",
      "questions size:  8930\n"
     ]
    },
    {
     "name": "stderr",
     "output_type": "stream",
     "text": [
      "100%|██████████| 1/1 [00:00<00:00,  2.30it/s]\n"
     ]
    },
    {
     "name": "stdout",
     "output_type": "stream",
     "text": [
      "5\n",
      "ans size:  5\n",
      "questions size:  9340\n"
     ]
    },
    {
     "name": "stderr",
     "output_type": "stream",
     "text": [
      "100%|██████████| 1/1 [00:00<00:00,  2.31it/s]\n"
     ]
    },
    {
     "name": "stdout",
     "output_type": "stream",
     "text": [
      "5\n",
      "ans size:  5\n",
      "questions size:  8681\n"
     ]
    },
    {
     "name": "stderr",
     "output_type": "stream",
     "text": [
      "100%|██████████| 1/1 [00:01<00:00,  1.40s/it]\n"
     ]
    },
    {
     "name": "stdout",
     "output_type": "stream",
     "text": [
      "5\n",
      "ans size:  5\n",
      "questions size:  70698\n"
     ]
    },
    {
     "name": "stderr",
     "output_type": "stream",
     "text": [
      "100%|██████████| 1/1 [00:00<00:00,  1.97it/s]\n"
     ]
    },
    {
     "name": "stdout",
     "output_type": "stream",
     "text": [
      "5\n",
      "ans size:  5\n",
      "questions size:  9024\n"
     ]
    },
    {
     "name": "stderr",
     "output_type": "stream",
     "text": [
      "100%|██████████| 1/1 [00:00<00:00,  1.97it/s]\n"
     ]
    },
    {
     "name": "stdout",
     "output_type": "stream",
     "text": [
      "5\n",
      "ans size:  5\n",
      "questions size:  1525\n"
     ]
    },
    {
     "name": "stderr",
     "output_type": "stream",
     "text": [
      "100%|██████████| 1/1 [00:00<00:00,  1.68it/s]\n"
     ]
    },
    {
     "name": "stdout",
     "output_type": "stream",
     "text": [
      "5\n",
      "ans size:  5\n",
      "questions size:  9182\n"
     ]
    },
    {
     "name": "stderr",
     "output_type": "stream",
     "text": [
      "100%|██████████| 1/1 [00:00<00:00,  1.97it/s]\n"
     ]
    },
    {
     "name": "stdout",
     "output_type": "stream",
     "text": [
      "5\n",
      "ans size:  5\n",
      "questions size:  8681\n"
     ]
    },
    {
     "name": "stderr",
     "output_type": "stream",
     "text": [
      "100%|██████████| 1/1 [00:00<00:00,  2.17it/s]\n"
     ]
    },
    {
     "name": "stdout",
     "output_type": "stream",
     "text": [
      "5\n",
      "ans size:  5\n",
      "questions size:  8930\n"
     ]
    },
    {
     "name": "stderr",
     "output_type": "stream",
     "text": [
      "100%|██████████| 1/1 [00:00<00:00,  2.16it/s]\n"
     ]
    },
    {
     "name": "stdout",
     "output_type": "stream",
     "text": [
      "5\n",
      "ans size:  5\n",
      "questions size:  8861\n"
     ]
    },
    {
     "name": "stderr",
     "output_type": "stream",
     "text": [
      "100%|██████████| 1/1 [00:00<00:00,  2.16it/s]\n"
     ]
    },
    {
     "name": "stdout",
     "output_type": "stream",
     "text": [
      "5\n",
      "ans size:  5\n",
      "questions size:  8938\n"
     ]
    },
    {
     "name": "stderr",
     "output_type": "stream",
     "text": [
      "100%|██████████| 1/1 [00:00<00:00,  2.16it/s]\n"
     ]
    },
    {
     "name": "stdout",
     "output_type": "stream",
     "text": [
      "5\n",
      "ans size:  5\n",
      "questions size:  9267\n"
     ]
    },
    {
     "name": "stderr",
     "output_type": "stream",
     "text": [
      "100%|██████████| 1/1 [00:00<00:00,  1.91it/s]\n"
     ]
    },
    {
     "name": "stdout",
     "output_type": "stream",
     "text": [
      "5\n",
      "ans size:  5\n",
      "questions size:  9340\n"
     ]
    },
    {
     "name": "stderr",
     "output_type": "stream",
     "text": [
      "100%|██████████| 1/1 [00:00<00:00,  1.97it/s]"
     ]
    },
    {
     "name": "stdout",
     "output_type": "stream",
     "text": [
      "5\n",
      "ans size:  5\n"
     ]
    },
    {
     "name": "stderr",
     "output_type": "stream",
     "text": [
      "\n"
     ]
    }
   ],
   "source": [
    "QA_PATH = '/scratch/nmachav1/MLLM_Hallucinations_CLEVR/outputs/Model_Answers/'\n",
    "SAVE_FOLDER = '/scratch/nmachav1/MLLM_Hallucinations_CLEVR/outputs/Zephyr_Results/'\n",
    "all_files = []\n",
    "for root, dirs, files in os.walk(QA_PATH):\n",
    "    # Exclude files from the \".ipynb_checkpoints\" folder\n",
    "    dirs[:] = [d for d in dirs if not d.endswith(\".ipynb_checkpoints\")]\n",
    "\n",
    "    for file in files:\n",
    "        # Check if the file has a .json extension\n",
    "        if file.endswith(\".json\"):\n",
    "            file_path = os.path.join(root, file)\n",
    "            # Process the file or do whatever you need with it\n",
    "            print(f\"Processing file: {file_path}\")\n",
    "            all_files.append(file_path)\n",
    "print(all_files)\n",
    "for file in all_files:\n",
    "    evals = performEvaluation(file)\n",
    "\n",
    "    with open(os.path.join(SAVE_FOLDER, file.split(\"/\")[-2]+\"/\"+file.split(\"/\")[-1]), 'w') as file:\n",
    "        json.dump(evals, file)"
   ]
  },
  {
   "cell_type": "code",
   "execution_count": null,
   "id": "1d0c5359-c3e1-4f36-8bfc-5d3b1f113a42",
   "metadata": {},
   "outputs": [],
   "source": []
  }
 ],
 "metadata": {
  "kernelspec": {
   "display_name": "pytorch-gpu-2.0.1",
   "language": "python",
   "name": "pytorch-gpu-2.0.1"
  },
  "language_info": {
   "codemirror_mode": {
    "name": "ipython",
    "version": 3
   },
   "file_extension": ".py",
   "mimetype": "text/x-python",
   "name": "python",
   "nbconvert_exporter": "python",
   "pygments_lexer": "ipython3",
   "version": "3.11.5"
  }
 },
 "nbformat": 4,
 "nbformat_minor": 5
}
