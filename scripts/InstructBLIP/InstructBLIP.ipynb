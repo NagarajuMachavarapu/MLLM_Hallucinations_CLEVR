{
 "cells": [
  {
   "cell_type": "code",
   "execution_count": 1,
   "id": "db3da0fa-8683-4548-96e2-6d5d8aeccc79",
   "metadata": {},
   "outputs": [],
   "source": [
    "import torch\n",
    "import json\n",
    "from PIL import Image\n",
    "import requests\n",
    "from tqdm import tqdm\n",
    "from transformers import InstructBlipProcessor, InstructBlipForConditionalGeneration\n",
    "import sys"
   ]
  },
  {
   "cell_type": "code",
   "execution_count": 5,
   "id": "2597264e-bd9d-4dab-9b5b-7de7c38dfe5f",
   "metadata": {},
   "outputs": [
    {
     "data": {
      "application/vnd.jupyter.widget-view+json": {
       "model_id": "41274d2c99c8449a80e507b4661d4c00",
       "version_major": 2,
       "version_minor": 0
      },
      "text/plain": [
       "Loading checkpoint shards:   0%|          | 0/4 [00:00<?, ?it/s]"
      ]
     },
     "metadata": {},
     "output_type": "display_data"
    },
    {
     "name": "stderr",
     "output_type": "stream",
     "text": [
      "100%|██████████| 1/1 [00:04<00:00,  4.92s/it]"
     ]
    },
    {
     "name": "stdout",
     "output_type": "stream",
     "text": [
      "{'image_filename': 'CLEVR_val_000006.png', 'question_index': 61, 'answer_type': 'yes-no', 'question': 'Is the shape of the small gray matte thing the same as the object behind the big green rubber object?', 'ground_truth': 'no', 'model_generated_answer': 'no', 'consistent': ''}\n"
     ]
    },
    {
     "name": "stderr",
     "output_type": "stream",
     "text": [
      "\n",
      "100%|██████████| 1/1 [00:02<00:00,  2.42s/it]"
     ]
    },
    {
     "name": "stdout",
     "output_type": "stream",
     "text": [
      "{'image_filename': 'CLEVR_val_000007.png', 'question_index': 71, 'answer_type': 'number', 'question': 'What number of objects are tiny spheres or brown blocks behind the gray matte object?', 'ground_truth': '2', 'model_generated_answer': 'There are three tiny spheres or brown blocks behind the gray matte object.', 'consistent': ''}\n"
     ]
    },
    {
     "name": "stderr",
     "output_type": "stream",
     "text": [
      "\n",
      "100%|██████████| 1/1 [00:02<00:00,  2.40s/it]\n"
     ]
    },
    {
     "name": "stdout",
     "output_type": "stream",
     "text": [
      "{'image_filename': 'CLEVR_val_000000.png', 'question_index': 0, 'answer_type': 'yes-no', 'question': 'Are there any other things that are the same shape as the big metallic object?', 'ground_truth': 'no', 'model_generated_answer': 'No', 'consistent': ''}\n"
     ]
    },
    {
     "name": "stderr",
     "output_type": "stream",
     "text": [
      "100%|██████████| 1/1 [00:02<00:00,  2.71s/it]\n"
     ]
    },
    {
     "name": "stdout",
     "output_type": "stream",
     "text": [
      "{'image_filename': 'CLEVR_val_000004.png', 'question_index': 41, 'answer_type': 'yes-no', 'question': 'Is there a metallic object left of the gray object that is behind the large cylinder that is in front of the green matte object?', 'ground_truth': 'no', 'model_generated_answer': 'Yes, there is a metallic object left of the gray object that is behind the large cylinder that is in front of the green matte object.', 'consistent': ''}\n"
     ]
    },
    {
     "name": "stderr",
     "output_type": "stream",
     "text": [
      "100%|██████████| 1/1 [00:02<00:00,  2.19s/it]"
     ]
    },
    {
     "name": "stdout",
     "output_type": "stream",
     "text": [
      "{'image_filename': 'CLEVR_val_000003.png', 'question_index': 30, 'answer_type': 'yes-no', 'question': 'Do the small shiny object and the matte cylinder have the same color?', 'ground_truth': 'yes', 'model_generated_answer': 'No, the small shiny object and the matte cylinder have different colors.', 'consistent': ''}\n"
     ]
    },
    {
     "name": "stderr",
     "output_type": "stream",
     "text": [
      "\n",
      "100%|██████████| 1/1 [00:01<00:00,  1.72s/it]"
     ]
    },
    {
     "name": "stdout",
     "output_type": "stream",
     "text": [
      "{'image_filename': 'CLEVR_val_000002.png', 'question_index': 21, 'answer_type': 'yes-no', 'question': 'Is the color of the metal block that is right of the yellow rubber object the same as the large metal cylinder?', 'ground_truth': 'yes', 'model_generated_answer': 'No', 'consistent': ''}\n"
     ]
    },
    {
     "name": "stderr",
     "output_type": "stream",
     "text": [
      "\n",
      "100%|██████████| 1/1 [00:12<00:00, 12.56s/it]"
     ]
    },
    {
     "name": "stdout",
     "output_type": "stream",
     "text": [
      "{'image_filename': 'CLEVR_val_000008.png', 'question_index': 80, 'answer_type': 'yes-no', 'question': 'Do the purple cylinder and the yellow rubber thing have the same size?', 'ground_truth': 'no', 'model_generated_answer': '10000000000000000000000000000000000000000000000000000000000000000000000000000000000000000000000000000000000000000000000000000000000000000000000000000000000000000000000000000000000000000000000000000000000000000000000000000000000000000000000000000000000000', 'consistent': ''}\n"
     ]
    },
    {
     "name": "stderr",
     "output_type": "stream",
     "text": [
      "\n",
      "100%|██████████| 1/1 [00:00<00:00,  1.83it/s]"
     ]
    },
    {
     "name": "stdout",
     "output_type": "stream",
     "text": [
      "{'image_filename': 'CLEVR_val_000001.png', 'question_index': 10, 'answer_type': 'colour', 'question': 'The other small shiny thing that is the same shape as the tiny yellow shiny object is what color?', 'ground_truth': 'cyan', 'model_generated_answer': 'blue', 'consistent': ''}\n"
     ]
    },
    {
     "name": "stderr",
     "output_type": "stream",
     "text": [
      "\n"
     ]
    }
   ],
   "source": [
    "image_path = '/scratch/nmachav1/CLEVR_v1.0/images/val/'\n",
    "model = InstructBlipForConditionalGeneration.from_pretrained(\"Salesforce/instructblip-vicuna-7b\")\n",
    "processor = InstructBlipProcessor.from_pretrained(\"Salesforce/instructblip-vicuna-7b\")\n",
    "\n",
    "device = \"cuda\" if torch.cuda.is_available() else \"cpu\"\n",
    "model.to(device)\n",
    "\n",
    "image_path = '/scratch/nmachav1/CLEVR_v1.0/images/val/'\n",
    "#object_type = ['inter', 'intra']\n",
    "for i in range(3,11):\n",
    "    dataset = f'/scratch/nmachav1/MLLM_Hallucinations_CLEVR/dataset/object_number_split/val_num_{i}.json'\n",
    "    output_path = f'/scratch/nmachav1/MLLM_Hallucinations_CLEVR/outputs/InstructBLIP/val_num_{i}.json'\n",
    "    #dataset = f'/scratch/nmachav1/MLLM_Hallucinations_CLEVR/dataset/object_type_split/val_type_{i}.json'\n",
    "    #output_path = f'/scratch/nmachav1/MLLM_Hallucinations_CLEVR/outputs/LLaVA/val_type_{i}.json'\n",
    "    with open(dataset, 'r') as f:\n",
    "        data = json.load(f)\n",
    "\n",
    "\n",
    "    complete_data = []\n",
    "    for each in tqdm(data[:1]):\n",
    "        each_copy = each.copy()\n",
    "        img = Image.open(image_path+each['image_filename']).convert(\"RGB\")\n",
    "        prompt = each['question']\n",
    "        inputs = processor(images=img, text=prompt, return_tensors=\"pt\").to(device)\n",
    "        outputs = model.generate(\n",
    "            **inputs,\n",
    "            do_sample=False,\n",
    "            use_cache=True,\n",
    "            num_beams=5,\n",
    "            max_length=256,\n",
    "            min_length=1,\n",
    "            top_p=1.0,\n",
    "            repetition_penalty=1.0,\n",
    "            length_penalty=1,\n",
    "            top_k=50,\n",
    "            temperature=1e-05\n",
    "        )\n",
    "        generated_text = processor.batch_decode(outputs, skip_special_tokens=True)[0].strip()\n",
    "        each_copy['model_generated_answer'] = generated_text\n",
    "        print(each_copy)\n",
    "        complete_data.append(each_copy)\n",
    "\n",
    "\n",
    "    with open(output_path, 'w') as f:\n",
    "        json.dump(complete_data, f ,indent=4)\n",
    "\n",
    "\n"
   ]
  },
  {
   "cell_type": "code",
   "execution_count": null,
   "id": "9f0208fe-1052-46d7-9f6f-bec182952d97",
   "metadata": {},
   "outputs": [],
   "source": []
  }
 ],
 "metadata": {
  "kernelspec": {
   "display_name": "Python 3 (ipykernel)",
   "language": "python",
   "name": "python3"
  },
  "language_info": {
   "codemirror_mode": {
    "name": "ipython",
    "version": 3
   },
   "file_extension": ".py",
   "mimetype": "text/x-python",
   "name": "python",
   "nbconvert_exporter": "python",
   "pygments_lexer": "ipython3",
   "version": "3.11.6"
  }
 },
 "nbformat": 4,
 "nbformat_minor": 5
}
