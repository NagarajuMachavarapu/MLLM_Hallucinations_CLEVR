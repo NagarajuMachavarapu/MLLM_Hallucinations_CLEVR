{
 "cells": [
  {
   "cell_type": "code",
   "execution_count": 1,
   "id": "d0da9a0b-0431-4bf1-8cc3-f68ff147bc2f",
   "metadata": {},
   "outputs": [],
   "source": [
    "import json\n",
    "import os\n",
    "import glob"
   ]
  },
  {
   "cell_type": "code",
   "execution_count": 2,
   "id": "53b18cce-0c58-4bab-9f26-c71e71de7dab",
   "metadata": {},
   "outputs": [],
   "source": [
    "imgNamesPath = '../../dataset/image_names_split'\n",
    "\n",
    "numberSplitPath = '../../dataset/object_number_split'\n",
    "typeSplitPath = '../../dataset/object_type_split'"
   ]
  },
  {
   "cell_type": "code",
   "execution_count": 3,
   "id": "c8dbe9e4-b90a-4b02-8de9-b9afa333754c",
   "metadata": {},
   "outputs": [
    {
     "name": "stdout",
     "output_type": "stream",
     "text": [
      "149991\n"
     ]
    }
   ],
   "source": [
    "valQuestionsObject = json.load(open('../../../CLEVR_v1.0/questions/CLEVR_val_questions.json'))['questions']\n",
    "print(len(valQuestionsObject))"
   ]
  },
  {
   "cell_type": "code",
   "execution_count": 4,
   "id": "a6fb54a2-9df8-471d-8ff1-13cfa1ea9ffb",
   "metadata": {},
   "outputs": [
    {
     "name": "stdout",
     "output_type": "stream",
     "text": [
      "15000\n"
     ]
    }
   ],
   "source": [
    "valScenesObject = json.load(open('../../../CLEVR_v1.0/scenes/CLEVR_val_scenes.json'))['scenes']\n",
    "print(len(valScenesObject))"
   ]
  },
  {
   "cell_type": "code",
   "execution_count": 5,
   "id": "61873cd6-96c2-47e1-ab9f-30fd071d9dee",
   "metadata": {},
   "outputs": [
    {
     "name": "stdout",
     "output_type": "stream",
     "text": [
      "generate_dataset.ipynb\tsplit_dataset.py\n"
     ]
    }
   ],
   "source": [
    "!ls"
   ]
  },
  {
   "cell_type": "code",
   "execution_count": 6,
   "id": "3cdd6193-6259-4c48-b7c1-6f1a559365dd",
   "metadata": {},
   "outputs": [],
   "source": [
    "def is_number(value):\n",
    "    if isinstance(value, (int, float, complex)):\n",
    "        return True\n",
    "    elif isinstance(value, str) and value.isnumeric():\n",
    "        return True\n",
    "    else:\n",
    "        return False\n",
    "\n",
    "def ansType(ans):\n",
    "    if ans.lower() == 'yes' or ans.lower()== 'no':\n",
    "        return 'yes-no'\n",
    "    elif is_number(ans):\n",
    "        return 'number'\n",
    "    elif ans in [\"cube\", \"sphere\", \"cylinder\"] :\n",
    "        return 'shape'\n",
    "    elif ans in  [\"small\", \"large\"]:\n",
    "        return 'size'\n",
    "    elif ans in [ \"left\", \"right\", \"behind\", \"front\"]:\n",
    "        return 'relation'\n",
    "    elif ans in [ \"gray\", \"red\", \"blue\", \"green\", \"brown\", \"purple\", \"cyan\", \"yellow\"]:\n",
    "        return 'colour'\n",
    "    elif ans in [\"rubber\", \"metal\"]:\n",
    "        return 'material'\n",
    "    \n",
    "    return 'none'"
   ]
  },
  {
   "cell_type": "code",
   "execution_count": 7,
   "id": "ec5fc3d6-bb7a-4d0f-8f30-6506c4190eb0",
   "metadata": {},
   "outputs": [],
   "source": [
    "for targetNumberOfObjects in range(3,11):\n",
    "    dataset = []\n",
    "    yn = 0\n",
    "    others = 0\n",
    "    idx = -1\n",
    "    for question in valQuestionsObject:\n",
    "        imageIndex = question['image_index']\n",
    "        numberOfObjectsInImage = len(valScenesObject[imageIndex]['objects'])\n",
    "        answerType = ansType(question['answer'])\n",
    "\n",
    "        if targetNumberOfObjects != numberOfObjectsInImage or answerType in ['none', 'size', 'material']:\n",
    "            continue\n",
    "\n",
    "        if idx != imageIndex:\n",
    "            idx = imageIndex\n",
    "            yn = 0\n",
    "            others = 0\n",
    "\n",
    "        if answerType == 'yes-no':\n",
    "            yn += 1\n",
    "            if yn > 2:\n",
    "                continue\n",
    "        else:\n",
    "            others += 1\n",
    "            if others > 3:\n",
    "                continue\n",
    "\n",
    "        dataset.append({\n",
    "            'image_filename': question['image_filename'],\n",
    "            'question_index': question['question_index'],\n",
    "            'answer_type': answerType,\n",
    "            'question': question['question'],\n",
    "            'ground_truth': question['answer'],\n",
    "            'model_generated_answer': '',\n",
    "            'consistent': '',\n",
    "        })\n",
    "\n",
    "        # print(dataset)\n",
    "        # break\n",
    "    file = open(f'../../dataset/object_number_split/val_num_{targetNumberOfObjects}.json', 'w')\n",
    "    json.dump(dataset, file)\n",
    "    file.close()"
   ]
  },
  {
   "cell_type": "code",
   "execution_count": null,
   "id": "9baa864f-f8cf-420e-98a6-75f598d7fab5",
   "metadata": {},
   "outputs": [],
   "source": []
  },
  {
   "cell_type": "code",
   "execution_count": null,
   "id": "23c8cc5d-c366-4a52-9620-edfb6c4d464d",
   "metadata": {},
   "outputs": [],
   "source": []
  },
  {
   "cell_type": "code",
   "execution_count": 8,
   "id": "c1a8d962-df8d-49ca-a26b-b551fac988ef",
   "metadata": {},
   "outputs": [],
   "source": [
    "for type in ['inter', 'intra']:\n",
    "    dataset = []\n",
    "    yn = 0\n",
    "    others = 0\n",
    "    idx = -1\n",
    "\n",
    "    for question in valQuestionsObject:\n",
    "        imageIndex = question['image_index']\n",
    "        answerType = ansType(question['answer'])\n",
    "        split = ''\n",
    "\n",
    "        objectsInImage = valScenesObject[imageIndex]['objects']\n",
    "        objectsInSet = set()\n",
    "\n",
    "        for obj in objectsInImage:\n",
    "            objectsInSet.add(obj['shape'])\n",
    "\n",
    "        if len(objectsInSet) > 1:\n",
    "            split = 'inter'\n",
    "        else:\n",
    "            split = 'intra'\n",
    "\n",
    "        if type != split or answerType in ['none', 'size', 'material']:\n",
    "            continue\n",
    "\n",
    "        if idx != imageIndex:\n",
    "            idx = imageIndex\n",
    "            yn = 0\n",
    "            others = 0\n",
    "\n",
    "        if answerType == 'yes-no':\n",
    "            yn += 1\n",
    "            if yn > 2:\n",
    "                continue\n",
    "        else:\n",
    "            others += 1\n",
    "            if others > 3:\n",
    "                continue\n",
    "\n",
    "        dataset.append({\n",
    "            'image_filename': question['image_filename'],\n",
    "            'question_index': question['question_index'],\n",
    "            'answer_type': answerType,\n",
    "            'question': question['question'],\n",
    "            'ground_truth': question['answer'],\n",
    "            'model_generated_answer': '',\n",
    "            'consistent': '',\n",
    "        })\n",
    "\n",
    "    file = open(f'../../dataset/object_type_split/val_type_{type}.json', 'w')\n",
    "    json.dump(dataset, file)\n",
    "    file.close()"
   ]
  },
  {
   "cell_type": "code",
   "execution_count": 9,
   "id": "f378b695-ffa4-4ea7-ad9f-21224c43eba0",
   "metadata": {},
   "outputs": [
    {
     "name": "stdout",
     "output_type": "stream",
     "text": [
      "72223\n",
      "72223\n"
     ]
    }
   ],
   "source": [
    "# validating\n",
    "path = '../../dataset/object_number_split'\n",
    "files = glob.glob(os.path.join(path, '*.json'), recursive=True)\n",
    "sum1 = 0\n",
    "\n",
    "for f in files:\n",
    "    o = json.load(open(f))\n",
    "    sum1 += len(o)\n",
    "\n",
    "print(sum1)\n",
    "\n",
    "####################\n",
    "path = '../../dataset/object_type_split'\n",
    "files = glob.glob(os.path.join(path, '*.json'), recursive=True)\n",
    "sum2 = 0\n",
    "\n",
    "for f in files:\n",
    "    o = json.load(open(f))\n",
    "    sum2 += len(o)\n",
    "\n",
    "print(sum2)"
   ]
  },
  {
   "cell_type": "code",
   "execution_count": null,
   "id": "7975ec9a-ea27-40c7-8ba0-f257fecec00e",
   "metadata": {},
   "outputs": [],
   "source": []
  }
 ],
 "metadata": {
  "kernelspec": {
   "display_name": "Python 3",
   "language": "python",
   "name": "python3"
  },
  "language_info": {
   "codemirror_mode": {
    "name": "ipython",
    "version": 3
   },
   "file_extension": ".py",
   "mimetype": "text/x-python",
   "name": "python",
   "nbconvert_exporter": "python",
   "pygments_lexer": "ipython3",
   "version": "3.11.6"
  }
 },
 "nbformat": 4,
 "nbformat_minor": 5
}
